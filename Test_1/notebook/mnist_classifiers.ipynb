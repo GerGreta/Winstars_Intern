{
 "cells": [
  {
   "cell_type": "markdown",
   "id": "04c74d73-486f-477d-b4e7-af2c1dd3b79a",
   "metadata": {},
   "source": [
    "# MNIST Classifiers Project\n",
    "This notebook demonstrates three MNIST classifiers:  \n",
    "1. Random Forest  \n",
    "2. Feedforward Neural Network (Keras)  \n",
    "3. Convolutional Neural Network (Keras)  \n",
    "\n",
    "The notebook covers data loading, preprocessing, training, prediction, and visualization.  \n",
    "All code is commented for clarity.\n"
   ]
  },
  {
   "cell_type": "markdown",
   "id": "b8afe9c6-c243-427b-a72c-f0e58b489d46",
   "metadata": {},
   "source": [
    "# Setup src folder"
   ]
  },
  {
   "cell_type": "code",
   "execution_count": 1,
   "id": "c42ad896-9ffa-43d1-a826-14e5f08c8353",
   "metadata": {},
   "outputs": [
    {
     "name": "stdout",
     "output_type": "stream",
     "text": [
      "Files in src: ['.ipynb_checkpoints', 'classifier.py', 'cnn.py', 'feedforward.py', 'interface.py', 'random_forest.py', '__pycache__']\n",
      "Import successful ✅\n"
     ]
    }
   ],
   "source": [
    "import sys\n",
    "import os\n",
    "\n",
    "# Dynamically determine the 'src' folder path relative to notebook location\n",
    "notebook_dir = os.getcwd()  # current notebook working directory\n",
    "src_path = os.path.abspath(os.path.join(notebook_dir, '..', 'src'))\n",
    "\n",
    "# Check if 'src' folder exists\n",
    "if not os.path.exists(src_path):\n",
    "    raise FileNotFoundError(f\"'src' folder not found at: {src_path}\")\n",
    "\n",
    "# Add src folder to Python path\n",
    "sys.path.append(src_path)\n",
    "\n",
    "# List files in src for verification\n",
    "print(\"Files in src:\", os.listdir(src_path))  \n",
    "# Expected: ['interface.py', 'random_forest.py', 'feedforward.py', 'cnn.py', 'classifier.py']\n",
    "\n",
    "# Import unified MNIST classifier wrapper\n",
    "from classifier import MnistClassifier\n",
    "print(\"Import successful ✅\")\n"
   ]
  },
  {
   "cell_type": "markdown",
   "id": "8e7f5a06-2575-4b53-b342-c7c8a56ad45a",
   "metadata": {},
   "source": [
    "# Imports"
   ]
  },
  {
   "cell_type": "code",
   "execution_count": 2,
   "id": "16f08f2b-ac0e-4783-94d1-d3188e9ddfa2",
   "metadata": {
    "scrolled": true
   },
   "outputs": [],
   "source": [
    "# Libraries for data handling, visualization, and metrics\n",
    "import pandas as pd\n",
    "import matplotlib.pyplot as plt\n",
    "from sklearn.datasets import fetch_openml\n",
    "from sklearn.model_selection import train_test_split\n",
    "from sklearn.metrics import accuracy_score\n",
    "\n",
    "# MNIST classifier wrapper\n",
    "from classifier import MnistClassifier\n"
   ]
  },
  {
   "cell_type": "markdown",
   "id": "b3377c48-7b77-4741-b37e-db8c97cc1bf3",
   "metadata": {},
   "source": [
    "# Load and visualize MNIST\n"
   ]
  },
  {
   "cell_type": "code",
   "execution_count": 3,
   "id": "a963e90e-e017-4bda-9101-25d2ef8707d7",
   "metadata": {},
   "outputs": [
    {
     "data": {
      "image/png": "[encoded data removed]",
      "text/plain": [
       "<Figure size 1000x400 with 5 Axes>"
      ]
     },
     "metadata": {},
     "output_type": "display_data"
    }
   ],
   "source": [
    "# Download MNIST dataset (70,000 samples, 28x28 pixels)\n",
    "mnist = fetch_openml('mnist_784', version=1)\n",
    "\n",
    "# Normalize pixel values to [0,1] and convert labels to integers\n",
    "X, y = mnist.data / 255.0, mnist.target.astype(int)\n",
    "\n",
    "# Visualize the first 5 digits\n",
    "plt.figure(figsize=(10,4))\n",
    "for i in range(5):\n",
    "    plt.subplot(1,5,i+1)\n",
    "    plt.imshow(X.iloc[i].values.reshape(28,28), cmap='gray')\n",
    "    plt.title(str(y.iloc[i]))\n",
    "    plt.axis('off')\n",
    "plt.show()\n"
   ]
  },
  {
   "cell_type": "markdown",
   "id": "5cfa042d-614b-46bc-8c4d-700f3164a274",
   "metadata": {},
   "source": [
    "# Split dataset"
   ]
  },
  {
   "cell_type": "code",
   "execution_count": 4,
   "id": "49c004fb-6ee2-49a5-a410-8420b46f6a5f",
   "metadata": {},
   "outputs": [],
   "source": [
    "# Split the MNIST dataset into training and testing sets.\n",
    "# 80% of the data is used for training, 20% for testing.\n",
    "# random_state ensures reproducibility of the split.\n",
    "\n",
    "from sklearn.model_selection import train_test_split\n",
    "\n",
    "X_train, X_test, y_train, y_test = train_test_split(\n",
    "    X,          # feature matrix\n",
    "    y,          # labels\n",
    "    test_size=0.2,  # proportion of test set\n",
    "    random_state=42 # fixed seed for reproducibility\n",
    ")\n"
   ]
  },
  {
   "cell_type": "markdown",
   "id": "b4f74993-4b1a-4ed1-a133-36d6e3db144d",
   "metadata": {},
   "source": [
    "# Random Forest\n"
   ]
  },
  {
   "cell_type": "code",
   "execution_count": 5,
   "id": "78bc739e-9517-45db-b72e-49d37b9cccd6",
   "metadata": {},
   "outputs": [
    {
     "name": "stdout",
     "output_type": "stream",
     "text": [
      "Random Forest Accuracy: 0.9675\n"
     ]
    }
   ],
   "source": [
    "# Initialize the MNIST classifier with the Random Forest algorithm\n",
    "clf_rf = MnistClassifier(\"rf\")\n",
    "\n",
    "# Train the Random Forest model on the training set\n",
    "clf_rf.train(X_train, y_train)\n",
    "\n",
    "# Predict labels for the test set\n",
    "preds_rf = clf_rf.predict(X_test)\n",
    "\n",
    "# Evaluate the model's accuracy\n",
    "print(\"Random Forest Accuracy:\", accuracy_score(y_test, preds_rf))\n"
   ]
  },
  {
   "cell_type": "markdown",
   "id": "1f7985aa-3e13-4f43-86e2-286be19263cc",
   "metadata": {},
   "source": [
    "# Feedforward Neural Network\n"
   ]
  },
  {
   "cell_type": "code",
   "execution_count": 6,
   "id": "29cb4f78-5cb1-426d-a282-06c807d37936",
   "metadata": {},
   "outputs": [
    {
     "name": "stdout",
     "output_type": "stream",
     "text": [
      "Epoch 1/5\n",
      "\u001b[1m1750/1750\u001b[0m \u001b[32m━━━━━━━━━━━━━━━━━━━━\u001b[0m\u001b[37m\u001b[0m \u001b[1m7s\u001b[0m 3ms/step - accuracy: 0.9274 - loss: 0.2471\n",
      "Epoch 2/5\n",
      "\u001b[1m1750/1750\u001b[0m \u001b[32m━━━━━━━━━━━━━━━━━━━━\u001b[0m\u001b[37m\u001b[0m \u001b[1m6s\u001b[0m 3ms/step - accuracy: 0.9678 - loss: 0.1049\n",
      "Epoch 3/5\n",
      "\u001b[1m1750/1750\u001b[0m \u001b[32m━━━━━━━━━━━━━━━━━━━━\u001b[0m\u001b[37m\u001b[0m \u001b[1m6s\u001b[0m 3ms/step - accuracy: 0.9771 - loss: 0.0722\n",
      "Epoch 4/5\n",
      "\u001b[1m1750/1750\u001b[0m \u001b[32m━━━━━━━━━━━━━━━━━━━━\u001b[0m\u001b[37m\u001b[0m \u001b[1m6s\u001b[0m 3ms/step - accuracy: 0.9825 - loss: 0.0550\n",
      "Epoch 5/5\n",
      "\u001b[1m1750/1750\u001b[0m \u001b[32m━━━━━━━━━━━━━━━━━━━━\u001b[0m\u001b[37m\u001b[0m \u001b[1m6s\u001b[0m 3ms/step - accuracy: 0.9862 - loss: 0.0423\n",
      "Feedforward NN Accuracy: 0.9748571428571429\n"
     ]
    }
   ],
   "source": [
    "# Initialize the MNIST classifier with the Feedforward Neural Network algorithm\n",
    "clf_nn = MnistClassifier(\"nn\")\n",
    "\n",
    "# Train the Feedforward NN on the training set\n",
    "# You can specify epochs and batch_size if needed, e.g., epochs=5, batch_size=32\n",
    "clf_nn.train(X_train, y_train)\n",
    "\n",
    "# Predict labels for the test set\n",
    "preds_nn = clf_nn.predict(X_test)\n",
    "\n",
    "# Evaluate the model's accuracy\n",
    "print(\"Feedforward NN Accuracy:\", accuracy_score(y_test, preds_nn))\n"
   ]
  },
  {
   "cell_type": "markdown",
   "id": "d88b178a-3c19-4891-a8e5-4d6b150a4446",
   "metadata": {},
   "source": [
    "# Convolutional Neural Network"
   ]
  },
  {
   "cell_type": "code",
   "execution_count": 7,
   "id": "531752a9-8d01-4cc6-a8bc-7e524ca14398",
   "metadata": {},
   "outputs": [
    {
     "name": "stdout",
     "output_type": "stream",
     "text": [
      "Epoch 1/5\n",
      "\u001b[1m1750/1750\u001b[0m \u001b[32m━━━━━━━━━━━━━━━━━━━━\u001b[0m\u001b[37m\u001b[0m \u001b[1m17s\u001b[0m 9ms/step - accuracy: 0.9558 - loss: 0.1445\n",
      "Epoch 2/5\n",
      "\u001b[1m1750/1750\u001b[0m \u001b[32m━━━━━━━━━━━━━━━━━━━━\u001b[0m\u001b[37m\u001b[0m \u001b[1m15s\u001b[0m 8ms/step - accuracy: 0.9857 - loss: 0.0470\n",
      "Epoch 3/5\n",
      "\u001b[1m1750/1750\u001b[0m \u001b[32m━━━━━━━━━━━━━━━━━━━━\u001b[0m\u001b[37m\u001b[0m \u001b[1m15s\u001b[0m 8ms/step - accuracy: 0.9894 - loss: 0.0336\n",
      "Epoch 4/5\n",
      "\u001b[1m1750/1750\u001b[0m \u001b[32m━━━━━━━━━━━━━━━━━━━━\u001b[0m\u001b[37m\u001b[0m \u001b[1m19s\u001b[0m 11ms/step - accuracy: 0.9918 - loss: 0.0255\n",
      "Epoch 5/5\n",
      "\u001b[1m1750/1750\u001b[0m \u001b[32m━━━━━━━━━━━━━━━━━━━━\u001b[0m\u001b[37m\u001b[0m \u001b[1m17s\u001b[0m 10ms/step - accuracy: 0.9942 - loss: 0.0187\n",
      "CNN Accuracy: 0.9845\n"
     ]
    }
   ],
   "source": [
    "# Reshape data for CNN input\n",
    "# CNN expects images with shape (num_samples, 28, 28, 1)\n",
    "X_train_cnn = X_train.values.reshape(-1, 28, 28, 1)\n",
    "X_test_cnn = X_test.values.reshape(-1, 28, 28, 1)\n",
    "\n",
    "# Initialize the MNIST classifier with the CNN algorithm\n",
    "clf_cnn = MnistClassifier(\"cnn\")\n",
    "\n",
    "# Train the CNN model on the reshaped training set\n",
    "clf_cnn.train(X_train_cnn, y_train)\n",
    "\n",
    "# Predict labels for the reshaped test set\n",
    "preds_cnn = clf_cnn.predict(X_test_cnn)\n",
    "\n",
    "# Evaluate the model's accuracy\n",
    "print(\"CNN Accuracy:\", accuracy_score(y_test, preds_cnn))\n"
   ]
  },
  {
   "cell_type": "markdown",
   "id": "20cb8383-a2e0-419d-a092-1a63c849dc61",
   "metadata": {},
   "source": [
    "# Visualize Predictions Random Forest\n"
   ]
  },
  {
   "cell_type": "code",
   "execution_count": 8,
   "id": "e607db92-b758-4637-ae93-3f47a986b71c",
   "metadata": {},
   "outputs": [
    {
     "data": {
      "image/png": "[encoded data removed]",
      "text/plain": [
       "<Figure size 1000x400 with 5 Axes>"
      ]
     },
     "metadata": {},
     "output_type": "display_data"
    }
   ],
   "source": [
    "import matplotlib.pyplot as plt\n",
    "\n",
    "# Visualize the first 5 test images and their predicted labels\n",
    "\n",
    "plt.figure(figsize=(10, 4))  # set figure size\n",
    "\n",
    "for i in range(5):\n",
    "    plt.subplot(1, 5, i + 1)  # 1 row, 5 columns\n",
    "    plt.imshow(X_test.iloc[i].values.reshape(28, 28), cmap='gray')  # reshape for display\n",
    "    plt.title(f\"RF Pred: {preds_rf[i]}\")  # display predicted label\n",
    "    plt.axis('off')  # hide axes for better visualization\n",
    "\n",
    "plt.show()\n"
   ]
  },
  {
   "cell_type": "code",
   "execution_count": 9,
   "id": "34f3c96f-02db-477c-998d-e6210f66552b",
   "metadata": {},
   "outputs": [],
   "source": [
    "# Visualize Predictions Feedforward Neural Network\n"
   ]
  },
  {
   "cell_type": "code",
   "execution_count": 10,
   "id": "24a02c4f-94e4-4a7d-afb8-7014202664dc",
   "metadata": {},
   "outputs": [
    {
     "data": {
      "image/png": "[encoded data removed]",
      "text/plain": [
       "<Figure size 1000x400 with 5 Axes>"
      ]
     },
     "metadata": {},
     "output_type": "display_data"
    }
   ],
   "source": [
    "import matplotlib.pyplot as plt\n",
    "\n",
    "# Visualize the first 5 test images and their predicted labels\n",
    "\n",
    "plt.figure(figsize=(10, 4))  # set figure size\n",
    "\n",
    "for i in range(5):\n",
    "    plt.subplot(1, 5, i + 1)  # 1 row, 5 columns\n",
    "    plt.imshow(X_test.iloc[i].values.reshape(28, 28), cmap='gray')  # reshape for display\n",
    "    plt.title(f\"RF Pred: {preds_nn[i]}\")  # display predicted label\n",
    "    plt.axis('off')  # hide axes for better visualization\n",
    "\n",
    "plt.show()\n"
   ]
  },
  {
   "cell_type": "markdown",
   "id": "25fa991c-e8d3-477d-848e-d0b94ef1de76",
   "metadata": {},
   "source": [
    "# Visualize Predictions Convolutional Neural Network\n"
   ]
  },
  {
   "cell_type": "code",
   "execution_count": 11,
   "id": "a75ad5cc-4192-4cf1-8d81-666ad210abda",
   "metadata": {},
   "outputs": [
    {
     "data": {
      "image/png": "[encoded data removed]",
      "text/plain": [
       "<Figure size 1000x400 with 5 Axes>"
      ]
     },
     "metadata": {},
     "output_type": "display_data"
    }
   ],
   "source": [
    "import matplotlib.pyplot as plt\n",
    "\n",
    "# Visualize the first 5 test images and their predicted labels\n",
    "\n",
    "plt.figure(figsize=(10, 4))  # set figure size\n",
    "\n",
    "for i in range(5):\n",
    "    plt.subplot(1, 5, i + 1)  # 1 row, 5 columns\n",
    "    plt.imshow(X_test.iloc[i].values.reshape(28, 28), cmap='gray')  # reshape for display\n",
    "    plt.title(f\"RF Pred: {preds_cnn[i]}\")  # display predicted label\n",
    "    plt.axis('off')  # hide axes for better visualization\n",
    "\n",
    "plt.show()\n"
   ]
  }
 ],
 "metadata": {
  "kernelspec": {
   "display_name": "Python 3 (ipykernel)",
   "language": "python",
   "name": "python3"
  },
  "language_info": {
   "codemirror_mode": {
    "name": "ipython",
    "version": 3
   },
   "file_extension": ".py",
   "mimetype": "text/x-python",
   "name": "python",
   "nbconvert_exporter": "python",
   "pygments_lexer": "ipython3",
   "version": "3.13.4"
  }
 },
 "nbformat": 4,
 "nbformat_minor": 5
}
